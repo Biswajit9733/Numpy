{
  "nbformat": 4,
  "nbformat_minor": 0,
  "metadata": {
    "colab": {
      "provenance": []
    },
    "kernelspec": {
      "name": "python3",
      "display_name": "Python 3"
    },
    "language_info": {
      "name": "python"
    }
  },
  "cells": [
    {
      "cell_type": "markdown",
      "source": [
        "1. Explain the purpose and advantages of NumPy in scientific computing and data analysis. How does it\n",
        "enhance Python's capabilities for numerical operations?"
      ],
      "metadata": {
        "id": "PydUGe4-dqVR"
      }
    },
    {
      "cell_type": "markdown",
      "source": [
        "Ans. NumPy, short for Numerical Python, is a powerful library in Python that is essential for scientific computing and data analysis. Its primary purpose is to provide support for large, multi-dimensional arrays and matrices, along with a collection of mathematical functions to operate on these data structures.\n",
        "\n",
        "One of the significant advantages of NumPy is its ability to perform vectorized operations, which allow for efficient computation on entire arrays without the need for explicit loops. This leads to cleaner and more readable code while significantly improving performance, especially with large datasets.\n",
        "\n",
        "NumPy also offers broadcasting, which simplifies operations on arrays of different shapes, making it easy to apply mathematical functions across dimensions. Additionally, it provides a variety of mathematical and statistical functions, such as linear algebra operations, Fourier transforms, and random number generation, which are crucial for data analysis tasks.\n",
        "\n",
        "Moreover, NumPy arrays are more memory-efficient than traditional Python lists, as they store elements of the same type in contiguous memory locations. This efficiency allows for faster computations and reduced memory overhead. NumPy's interoperability with other scientific libraries, such as SciPy and Matplotlib, further enhances Python's capabilities for numerical operations, enabling users to build comprehensive data analysis pipelines.\n",
        "\n",
        "In summary, NumPy transforms Python into a robust platform for scientific computing, making it indispensable for data scientists, engineers, and researchers working with large datasets and complex numerical calculations."
      ],
      "metadata": {
        "id": "XyePl2uGdqX8"
      }
    },
    {
      "cell_type": "markdown",
      "source": [
        "2. Compare and contrast np.mean() and np.average() functions in NumPy. When would you use one over the\n",
        "other?"
      ],
      "metadata": {
        "id": "56nJzOscdqaQ"
      }
    },
    {
      "cell_type": "markdown",
      "source": [
        "Ans. In NumPy, both `np.mean()` and `np.average()` functions are used to compute averages, but they have distinct differences in functionality. The np.mean() function calculates the arithmetic mean of an array by summing all the elements and dividing by the count of elements. It is straightforward and efficient, making it suitable for general use when you simply need the average value.\n",
        "\n",
        "On the other hand, `np.average()` provides additional functionality, allowing you to specify weights for the elements in the array. This means you can compute a weighted average, which is useful when certain values contribute more significantly to the average than others. The default behavior of `np.average()` is to treat all weights as equal if none are specified, making it behave like `np.mean()` in such cases.\n",
        "\n",
        "While `np.mean()` is more commonly used due to its simplicity and speed, `np.average()` is preferable when dealing with datasets where different values have varying levels of importance or relevance.\n",
        "\n",
        "In summary, use `np.mean()` for a quick, unweighted average and opt for `np.average()` when you need to incorporate weights into your calculations. This flexibility makes `np.average()` more versatile in specific contexts, whereas `np.mean()` is ideal for straightforward averaging tasks."
      ],
      "metadata": {
        "id": "mpAO-zs3dqcd"
      }
    },
    {
      "cell_type": "markdown",
      "source": [
        "3.  Describe the methods for reversing a NumPy array along different axes. Provide examples for 1D and 2D\n",
        "arrays."
      ],
      "metadata": {
        "id": "NOETVQjgdqf-"
      }
    },
    {
      "cell_type": "code",
      "source": [
        "import numpy as np\n",
        "\n",
        "# Example 1: Reversing a 1D array\n",
        "# Create a 1D NumPy array\n",
        "array_1d = np.array([1, 2, 3, 4, 5])\n",
        "\n",
        "# Reverse the 1D array\n",
        "reversed_1d = array_1d[::-1]\n",
        "\n",
        "print(\"Original 1D Array:\", array_1d)\n",
        "print(\"Reversed 1D Array:\", reversed_1d)\n",
        "\n",
        "# Example 2: Reversing a 2D array\n",
        "# Create a 2D NumPy array\n",
        "array_2d = np.array([[1, 2, 3], [4, 5, 6]])\n",
        "\n",
        "# Reverse the 2D array along the first axis (rows)\n",
        "reversed_2d_axis0 = array_2d[::-1]\n",
        "\n",
        "# Reverse the 2D array along the second axis (columns)\n",
        "reversed_2d_axis1 = array_2d[:, ::-1]\n",
        "\n",
        "print(\"\\nOriginal 2D Array:\\n\", array_2d)\n",
        "print(\"Reversed 2D Array along axis 0 (rows):\\n\", reversed_2d_axis0)\n",
        "print(\"Reversed 2D Array along axis 1 (columns):\\n\", reversed_2d_axis1)\n"
      ],
      "metadata": {
        "colab": {
          "base_uri": "https://localhost:8080/"
        },
        "id": "16vOX3e8eux9",
        "outputId": "26903360-465c-44ea-d800-c1bd1c290ce6"
      },
      "execution_count": 1,
      "outputs": [
        {
          "output_type": "stream",
          "name": "stdout",
          "text": [
            "Original 1D Array: [1 2 3 4 5]\n",
            "Reversed 1D Array: [5 4 3 2 1]\n",
            "\n",
            "Original 2D Array:\n",
            " [[1 2 3]\n",
            " [4 5 6]]\n",
            "Reversed 2D Array along axis 0 (rows):\n",
            " [[4 5 6]\n",
            " [1 2 3]]\n",
            "Reversed 2D Array along axis 1 (columns):\n",
            " [[3 2 1]\n",
            " [6 5 4]]\n"
          ]
        }
      ]
    },
    {
      "cell_type": "markdown",
      "source": [
        "4. How can you determine the data type of elements in a NumPy array? Discuss the importance of data types\n",
        "in memory management and performance."
      ],
      "metadata": {
        "id": "iXG66jb1dqlJ"
      }
    },
    {
      "cell_type": "code",
      "source": [
        "import numpy as np\n",
        "\n",
        "# Create NumPy arrays with different data types\n",
        "array_int = np.array([1, 2, 3, 4])\n",
        "array_float = np.array([1.0, 2.0, 3.0, 4.0])\n",
        "array_string = np.array(['apple', 'banana', 'cherry'])\n",
        "\n",
        "# Determine and print the data types of the arrays\n",
        "print(\"Data type of array_int:\", array_int.dtype)\n",
        "print(\"Data type of array_float:\", array_float.dtype)\n",
        "print(\"Data type of array_string:\", array_string.dtype)\n",
        "\n",
        "# Example of changing data type\n",
        "array_float_converted = array_float.astype(np.int32)\n",
        "print(\"\\nConverted array (from float to int):\", array_float_converted)\n",
        "print(\"Data type of converted array:\", array_float_converted.dtype)\n"
      ],
      "metadata": {
        "colab": {
          "base_uri": "https://localhost:8080/"
        },
        "id": "l4huXg0tfHpm",
        "outputId": "722feb73-0e04-4a97-8493-293473a2f84a"
      },
      "execution_count": 2,
      "outputs": [
        {
          "output_type": "stream",
          "name": "stdout",
          "text": [
            "Data type of array_int: int64\n",
            "Data type of array_float: float64\n",
            "Data type of array_string: <U6\n",
            "\n",
            "Converted array (from float to int): [1 2 3 4]\n",
            "Data type of converted array: int32\n"
          ]
        }
      ]
    },
    {
      "cell_type": "markdown",
      "source": [
        "Importance of Data Types:\n",
        "Memory Management: Different data types require varying amounts of memory. For example, an int32 takes up 4 bytes, while an int64 takes 8 bytes. Choosing the appropriate data type can help optimize memory usage, especially when working with large datasets.\n",
        "\n",
        "Performance: The efficiency of operations performed on arrays can depend on their data types. Operations on smaller data types (like float32 versus float64) can lead to faster computations due to reduced memory bandwidth usage. Additionally, using the correct data type can prevent unnecessary type conversions during calculations.\n",
        "\n",
        "Precision and Range: Data types determine the range of values and precision available. For example, using float64 provides greater precision than float32, but it also consumes more memory. Understanding these trade-offs is crucial for accurate data representation.\n",
        "\n"
      ],
      "metadata": {
        "id": "LUOYIjQqdqnP"
      }
    },
    {
      "cell_type": "markdown",
      "source": [
        "5. Define ndarrays in NumPy and explain their key features. How do they differ from standard Python lists?"
      ],
      "metadata": {
        "id": "ReDHQHfMfeD2"
      }
    },
    {
      "cell_type": "markdown",
      "source": [
        "In NumPy, ndarrays (N-dimensional arrays) are the core data structure designed for efficient storage and manipulation of large datasets. Key features of ndarrays include support for multi-dimensional data, allowing for arrays of any number of dimensions, such as 1D, 2D, or higher. They are homogeneous, meaning all elements must be of the same data type, which enables optimized memory usage and performance for numerical computations.\n",
        "\n",
        "Ndarrays provide vectorized operations, enabling element-wise computations without the need for explicit loops, which significantly enhances performance. Additionally, they support broadcasting, allowing operations between arrays of different shapes in a flexible manner. Ndarrays also offer a wide range of mathematical and statistical functions, making complex data analysis easier.\n",
        "\n",
        "In contrast, standard Python lists are heterogeneous, allowing mixed data types, which can lead to inefficiencies in memory and performance. Lists require explicit loops for element-wise operations, making them slower for large datasets. Furthermore, Python lists do not support advanced operations like broadcasting or built-in mathematical functions that are readily available in NumPy.\n",
        "\n",
        "Overall, ndarrays are designed specifically for numerical and scientific computing, providing significant advantages over standard Python lists in terms of speed, efficiency, and functionality."
      ],
      "metadata": {
        "id": "vLGxLkrHfxQH"
      }
    },
    {
      "cell_type": "markdown",
      "source": [
        "6. Analyze the performance benefits of NumPy arrays over Python lists for large-scale numerical operations."
      ],
      "metadata": {
        "id": "Vzbvx9BPfyEo"
      }
    },
    {
      "cell_type": "markdown",
      "source": [
        "The performance benefits of NumPy arrays over Python lists for large-scale numerical operations can be summarized as follows:\n",
        "\n",
        "1. **Memory Efficiency**: NumPy arrays are more memory-efficient than Python lists because they store elements of the same data type in contiguous memory locations, reducing overhead.\n",
        "\n",
        "2. **Faster Execution**: Operations on NumPy arrays are executed in compiled C code, leading to significantly faster performance compared to the interpreted nature of Python lists, especially for large datasets.\n",
        "\n",
        "3. **Vectorization**: NumPy supports vectorized operations, allowing for simultaneous computations on entire arrays without the need for explicit loops, which greatly accelerates processing times.\n",
        "\n",
        "4. **Broadcasting**: NumPy’s broadcasting capabilities enable operations between arrays of different shapes without the need for explicit expansion of dimensions, simplifying code and improving speed.\n",
        "\n",
        "5. **Built-in Functions**: NumPy provides a vast collection of optimized mathematical functions that can be applied directly to arrays, minimizing the need for manual implementation and reducing computation time.\n",
        "\n",
        "6. **Type Consistency**: Since NumPy arrays are homogeneous (same data type), they minimize type-checking overhead during operations, resulting in quicker execution.\n",
        "\n",
        "7. **Efficient Indexing and Slicing**: NumPy’s advanced indexing and slicing capabilities are more efficient than Python lists, allowing for quick extraction and manipulation of subarrays.\n",
        "\n",
        "8. **Multidimensional Arrays**: NumPy naturally supports multi-dimensional arrays, which simplifies mathematical operations on matrices and tensors, enhancing performance in fields like machine learning and data analysis.\n",
        "\n",
        "9. **Reduced Function Call Overhead**: NumPy minimizes the number of function calls compared to looping through Python lists, leading to reduced overhead in computations.\n",
        "\n",
        "10. **Compatibility with Other Libraries**: NumPy arrays seamlessly integrate with other scientific libraries (like SciPy, Matplotlib, and pandas), enabling efficient workflows for large-scale data analysis and numerical operations.\n",
        "\n",
        "Overall, these benefits make NumPy a superior choice for handling large-scale numerical operations compared to Python lists."
      ],
      "metadata": {
        "id": "_dqISEnag7LK"
      }
    },
    {
      "cell_type": "markdown",
      "source": [
        "7. Compare vstack() and hstack() functions in NumPy. Provide examples demonstrating their usage and\n",
        "output."
      ],
      "metadata": {
        "id": "xrFQGQw5g8pv"
      }
    },
    {
      "cell_type": "code",
      "source": [
        "import numpy as np\n",
        "\n",
        "# Create sample arrays\n",
        "array1 = np.array([[1, 2, 3],\n",
        "                   [4, 5, 6]])\n",
        "\n",
        "array2 = np.array([[7, 8, 9],\n",
        "                   [10, 11, 12]])\n",
        "\n",
        "# Using vstack() to stack arrays vertically\n",
        "vertical_stack = np.vstack((array1, array2))\n",
        "\n",
        "# Using hstack() to stack arrays horizontally\n",
        "horizontal_stack = np.hstack((array1, array2))\n",
        "\n",
        "# Print the original arrays and the results\n",
        "print(\"Original Array 1:\\n\", array1)\n",
        "print(\"Original Array 2:\\n\", array2)\n",
        "print(\"\\nVertical Stack of Arrays:\\n\", vertical_stack)\n",
        "print(\"\\nHorizontal Stack of Arrays:\\n\", horizontal_stack)\n"
      ],
      "metadata": {
        "colab": {
          "base_uri": "https://localhost:8080/"
        },
        "id": "6w_hHR-fhO73",
        "outputId": "11079582-49e6-494c-bf84-a76621d10a82"
      },
      "execution_count": 3,
      "outputs": [
        {
          "output_type": "stream",
          "name": "stdout",
          "text": [
            "Original Array 1:\n",
            " [[1 2 3]\n",
            " [4 5 6]]\n",
            "Original Array 2:\n",
            " [[ 7  8  9]\n",
            " [10 11 12]]\n",
            "\n",
            "Vertical Stack of Arrays:\n",
            " [[ 1  2  3]\n",
            " [ 4  5  6]\n",
            " [ 7  8  9]\n",
            " [10 11 12]]\n",
            "\n",
            "Horizontal Stack of Arrays:\n",
            " [[ 1  2  3  7  8  9]\n",
            " [ 4  5  6 10 11 12]]\n"
          ]
        }
      ]
    },
    {
      "cell_type": "markdown",
      "source": [
        "8.  Explain the differences between fliplr() and flipud() methods in NumPy, including their effects on various\n",
        "array dimensions."
      ],
      "metadata": {
        "id": "AKHAUiVThVdZ"
      }
    },
    {
      "cell_type": "markdown",
      "source": [
        "The `fliplr()` and `flipud()` methods in NumPy are used to reverse the order of elements in arrays, but they operate along different axes.\n",
        "\n",
        "1. **Functionality**: `fliplr()` flips the array horizontally (left to right), while `flipud()` flips the array vertically (upside down).\n",
        "\n",
        "2. **Axis of Operation**: `fliplr()` operates along the second axis (columns) of a 2D array, while `flipud()` operates along the first axis (rows).\n",
        "\n",
        "3. **2D Arrays**: For a 2D array, `fliplr()` reverses the order of columns, effectively mirroring the array along its vertical axis. In contrast, `flipud()` reverses the order of rows, mirroring the array along its horizontal axis.\n",
        "\n",
        "4. **Effect on 1D Arrays**: Both methods will raise an error if applied directly to 1D arrays, as they require at least two dimensions to operate effectively.\n",
        "\n",
        "5. **Higher-Dimensional Arrays**: When applied to higher-dimensional arrays, both functions affect only the specified axes. For example, in a 3D array, `fliplr()` will flip the elements along the last axis while maintaining the other dimensions.\n",
        "\n",
        "6. **Return Value**: Both methods return a new array with the same shape as the original but with the specified elements flipped, leaving the original array unchanged.\n",
        "\n",
        "7. **Syntax**: The syntax for both methods is straightforward: `np.fliplr(array)` and `np.flipud(array)`, making them easy to use in data manipulation tasks.\n",
        "\n",
        "8. **Use Cases**: These functions are often used in image processing, where flipping images horizontally or vertically can be a common requirement.\n",
        "\n",
        "9. **In-place Operation**: Neither `fliplr()` nor `flipud()` perform in-place operations; instead, they create a new array with the flipped orientation.\n",
        "\n",
        "10. **Performance**: Both functions are efficient and optimized for performance in NumPy, making them suitable for large datasets in scientific computing and data analysis."
      ],
      "metadata": {
        "id": "ngx58B7GhmUd"
      }
    },
    {
      "cell_type": "markdown",
      "source": [
        "9. Discuss the functionality of the array_split() method in NumPy. How does it handle uneven splits?"
      ],
      "metadata": {
        "id": "yv6sTfcIhnHv"
      }
    },
    {
      "cell_type": "markdown",
      "source": [
        "The `array_split()` method in NumPy is used to split an array into multiple sub-arrays along a specified axis.\n",
        "\n",
        "1. **Functionality**: It takes an input array and divides it into the specified number of sub-arrays, returning them as a list of arrays.\n",
        "\n",
        "2. **Axis Parameter**: The method allows for splitting along a particular axis, which can be specified using the `axis` argument. By default, it splits along the first axis (0).\n",
        "\n",
        "3. **Handling Uneven Splits**: If the array cannot be evenly divided by the specified number of splits, `array_split()` handles this by distributing the elements as evenly as possible among the resulting sub-arrays.\n",
        "\n",
        "4. **Example of Uneven Splits**: For instance, if you attempt to split an array with 10 elements into 3 sub-arrays, the resulting splits will contain 4, 3, and 3 elements, respectively.\n",
        "\n",
        "5. **Return Value**: The method returns a list containing the resulting sub-arrays, which may have varying sizes if the original array cannot be evenly divided.\n",
        "\n",
        "6. **Non-destructive**: `array_split()` does not modify the original array; it creates new sub-arrays based on the split.\n",
        "\n",
        "7. **Versatile**: It can handle both 1D and multi-dimensional arrays, making it versatile for various data structures.\n",
        "\n",
        "8. **Use Cases**: This method is useful in data preprocessing, particularly when you want to divide datasets into training and testing subsets or when implementing cross-validation techniques.\n",
        "\n",
        "9. **Syntax**: The typical syntax is `np.array_split(array, indices_or_sections, axis=0)`, where `indices_or_sections` specifies the number of splits or the indices at which to split.\n",
        "\n",
        "10. **Performance**: While `array_split()` is generally efficient, the performance may vary depending on the size and dimensionality of the original array, as well as the number of splits requested."
      ],
      "metadata": {
        "id": "YeEUVSK6h2jt"
      }
    },
    {
      "cell_type": "markdown",
      "source": [
        "10.  Explain the concepts of vectorization and broadcasting in NumPy. How do they contribute to efficient array\n",
        "operations?"
      ],
      "metadata": {
        "id": "IpwV0Fcih4sU"
      }
    },
    {
      "cell_type": "markdown",
      "source": [
        "Vectorization and broadcasting are essential concepts in NumPy that enhance the efficiency of array operations.\n",
        "\n",
        "1. **Vectorization** refers to the ability to perform element-wise operations on entire arrays simultaneously, eliminating the need for explicit loops in Python.\n",
        "\n",
        "2. This approach leverages low-level optimizations, allowing operations to be executed in compiled C code, which significantly improves performance compared to traditional Python loops.\n",
        "\n",
        "3. Vectorized operations result in more concise and readable code, making it easier to maintain and less prone to errors.\n",
        "\n",
        "4. **Broadcasting** is a powerful mechanism that enables NumPy to perform arithmetic operations on arrays of different shapes by automatically expanding the smaller array's dimensions to match those of the larger array.\n",
        "\n",
        "5. This means that you can add, subtract, or perform other operations between arrays of different sizes without needing to explicitly reshape or replicate the arrays.\n",
        "\n",
        "6. Broadcasting reduces memory usage by eliminating the need to create multiple copies of arrays with the same shape, allowing for more efficient computation.\n",
        "\n",
        "7. For example, when adding a 1D array to a 2D array, NumPy automatically applies the 1D array to each row of the 2D array, facilitating the operation without loops.\n",
        "\n",
        "8. The combination of vectorization and broadcasting enables developers to write complex numerical computations in a straightforward manner, leading to faster execution times.\n",
        "\n",
        "9. These concepts are particularly beneficial in fields like data analysis, machine learning, and scientific computing, where large datasets are common and operations need to be performed rapidly.\n",
        "\n",
        "10. Overall, vectorization and broadcasting make NumPy a powerful tool for efficient numerical computing, allowing for high-speed array manipulations with minimal code."
      ],
      "metadata": {
        "id": "mB1L_Ubnl5G9"
      }
    },
    {
      "cell_type": "markdown",
      "source": [
        "Practical Questions:"
      ],
      "metadata": {
        "id": "zLwCTBHhl7Zf"
      }
    },
    {
      "cell_type": "markdown",
      "source": [
        "1. Create a 3x3 NumPy array with random integers between 1 and 100. Then, interchange its rows and columns."
      ],
      "metadata": {
        "id": "FDjCaDYTl_7t"
      }
    },
    {
      "cell_type": "code",
      "source": [
        "import numpy as np\n",
        "\n",
        "# Create a 3x3 NumPy array with random integers between 1 and 100\n",
        "array_3x3 = np.random.randint(1, 101, size=(3, 3))\n",
        "\n",
        "# Print the original array\n",
        "print(\"Original 3x3 Array:\\n\", array_3x3)\n",
        "\n",
        "# Interchange rows and columns (transpose the array)\n",
        "transposed_array = np.transpose(array_3x3)\n",
        "\n",
        "# Alternatively, you can use the .T attribute to transpose\n",
        "# transposed_array = array_3x3.T\n",
        "\n",
        "# Print the transposed array\n",
        "print(\"\\nTransposed 3x3 Array:\\n\", transposed_array)\n"
      ],
      "metadata": {
        "colab": {
          "base_uri": "https://localhost:8080/"
        },
        "id": "jwWx2HxOmUTd",
        "outputId": "ab77bffc-e733-422b-c2b5-d2eb2ac7b48a"
      },
      "execution_count": 4,
      "outputs": [
        {
          "output_type": "stream",
          "name": "stdout",
          "text": [
            "Original 3x3 Array:\n",
            " [[98 37 60]\n",
            " [51 88 27]\n",
            " [29 99  3]]\n",
            "\n",
            "Transposed 3x3 Array:\n",
            " [[98 51 29]\n",
            " [37 88 99]\n",
            " [60 27  3]]\n"
          ]
        }
      ]
    },
    {
      "cell_type": "markdown",
      "source": [
        "2. Generate a 1D NumPy array with 10 elements. Reshape it into a 2x5 array, then into a 5x2 array."
      ],
      "metadata": {
        "id": "dhw5AqDlmWVe"
      }
    },
    {
      "cell_type": "code",
      "source": [
        "import numpy as np\n",
        "\n",
        "# Generate a 1D NumPy array with 10 elements\n",
        "array_1d = np.arange(10)  # Creates an array with values from 0 to 9\n",
        "\n",
        "# Print the original 1D array\n",
        "print(\"Original 1D Array:\\n\", array_1d)\n",
        "\n",
        "# Reshape it into a 2x5 array\n",
        "array_2x5 = array_1d.reshape(2, 5)\n",
        "\n",
        "# Print the reshaped 2x5 array\n",
        "print(\"\\nReshaped 2x5 Array:\\n\", array_2x5)\n",
        "\n",
        "# Reshape it into a 5x2 array\n",
        "array_5x2 = array_1d.reshape(5, 2)\n",
        "\n",
        "# Print the reshaped 5x2 array\n",
        "print(\"\\nReshaped 5x2 Array:\\n\", array_5x2)\n"
      ],
      "metadata": {
        "colab": {
          "base_uri": "https://localhost:8080/"
        },
        "id": "BU6yQtThmZ_V",
        "outputId": "242e53f3-b427-4970-8f7b-268e6f9093fe"
      },
      "execution_count": 5,
      "outputs": [
        {
          "output_type": "stream",
          "name": "stdout",
          "text": [
            "Original 1D Array:\n",
            " [0 1 2 3 4 5 6 7 8 9]\n",
            "\n",
            "Reshaped 2x5 Array:\n",
            " [[0 1 2 3 4]\n",
            " [5 6 7 8 9]]\n",
            "\n",
            "Reshaped 5x2 Array:\n",
            " [[0 1]\n",
            " [2 3]\n",
            " [4 5]\n",
            " [6 7]\n",
            " [8 9]]\n"
          ]
        }
      ]
    },
    {
      "cell_type": "markdown",
      "source": [
        "3.  Create a 4x4 NumPy array with random float values. Add a border of zeros around it, resulting in a 6x6 array."
      ],
      "metadata": {
        "id": "1_DuzJBEmgtM"
      }
    },
    {
      "cell_type": "code",
      "source": [
        "import numpy as np\n",
        "\n",
        "# Create a 4x4 NumPy array with random float values\n",
        "array_4x4 = np.random.rand(4, 4)\n",
        "\n",
        "# Print the original 4x4 array\n",
        "print(\"Original 4x4 Array:\\n\", array_4x4)\n",
        "\n",
        "# Add a border of zeros around the 4x4 array\n",
        "array_with_border = np.pad(array_4x4, pad_width=1, mode='constant', constant_values=0)\n",
        "\n",
        "# Print the resulting 6x6 array\n",
        "print(\"\\n6x6 Array with Border of Zeros:\\n\", array_with_border)\n"
      ],
      "metadata": {
        "colab": {
          "base_uri": "https://localhost:8080/"
        },
        "id": "ZPlnOMzxmkes",
        "outputId": "3bd6a8cd-f7a2-4ea9-ac9d-46bc8186a9ed"
      },
      "execution_count": 6,
      "outputs": [
        {
          "output_type": "stream",
          "name": "stdout",
          "text": [
            "Original 4x4 Array:\n",
            " [[0.79362108 0.48399365 0.96276016 0.95456516]\n",
            " [0.73356544 0.46823329 0.75136014 0.48297145]\n",
            " [0.86031659 0.5335769  0.89984422 0.14287751]\n",
            " [0.27482004 0.66156032 0.59313076 0.78070626]]\n",
            "\n",
            "6x6 Array with Border of Zeros:\n",
            " [[0.         0.         0.         0.         0.         0.        ]\n",
            " [0.         0.79362108 0.48399365 0.96276016 0.95456516 0.        ]\n",
            " [0.         0.73356544 0.46823329 0.75136014 0.48297145 0.        ]\n",
            " [0.         0.86031659 0.5335769  0.89984422 0.14287751 0.        ]\n",
            " [0.         0.27482004 0.66156032 0.59313076 0.78070626 0.        ]\n",
            " [0.         0.         0.         0.         0.         0.        ]]\n"
          ]
        }
      ]
    },
    {
      "cell_type": "markdown",
      "source": [
        "4. Using NumPy, create an array of integers from 10 to 60 with a step of 5."
      ],
      "metadata": {
        "id": "Z2YZH54vm36O"
      }
    },
    {
      "cell_type": "code",
      "source": [
        "import numpy as np\n",
        "\n",
        "# Create an array of integers from 10 to 60 with a step of 5\n",
        "array_integers = np.arange(10, 61, 5)\n",
        "\n",
        "# Print the resulting array\n",
        "print(\"Array of integers from 10 to 60 with a step of 5:\\n\", array_integers)\n"
      ],
      "metadata": {
        "colab": {
          "base_uri": "https://localhost:8080/"
        },
        "id": "0esFTAQGm5NW",
        "outputId": "b9940514-ada6-4597-f87b-83a5384e738a"
      },
      "execution_count": 7,
      "outputs": [
        {
          "output_type": "stream",
          "name": "stdout",
          "text": [
            "Array of integers from 10 to 60 with a step of 5:\n",
            " [10 15 20 25 30 35 40 45 50 55 60]\n"
          ]
        }
      ]
    },
    {
      "cell_type": "markdown",
      "source": [
        "5. Create a NumPy array of strings ['python', 'numpy', 'pandas']. Apply different case transformations\n",
        "(uppercase, lowercase, title case, etc.) to each element."
      ],
      "metadata": {
        "id": "_imuoQ-mm_gA"
      }
    },
    {
      "cell_type": "code",
      "source": [
        "import numpy as np\n",
        "\n",
        "# Create a NumPy array of strings\n",
        "array_strings = np.array(['python', 'numpy', 'pandas'])\n",
        "\n",
        "# Apply different case transformations\n",
        "uppercase_array = np.char.upper(array_strings)\n",
        "lowercase_array = np.char.lower(array_strings)\n",
        "titlecase_array = np.char.title(array_strings)\n",
        "\n",
        "# Print the original and transformed arrays\n",
        "print(\"Original Array:\\n\", array_strings)\n",
        "print(\"\\nUppercase Transformation:\\n\", uppercase_array)\n",
        "print(\"\\nLowercase Transformation:\\n\", lowercase_array)\n",
        "print(\"\\nTitle Case Transformation:\\n\", titlecase_array)\n"
      ],
      "metadata": {
        "colab": {
          "base_uri": "https://localhost:8080/"
        },
        "id": "Kc0g6WKFnCPx",
        "outputId": "591f9d64-3357-4146-e6b1-77b41f2bacb5"
      },
      "execution_count": 8,
      "outputs": [
        {
          "output_type": "stream",
          "name": "stdout",
          "text": [
            "Original Array:\n",
            " ['python' 'numpy' 'pandas']\n",
            "\n",
            "Uppercase Transformation:\n",
            " ['PYTHON' 'NUMPY' 'PANDAS']\n",
            "\n",
            "Lowercase Transformation:\n",
            " ['python' 'numpy' 'pandas']\n",
            "\n",
            "Title Case Transformation:\n",
            " ['Python' 'Numpy' 'Pandas']\n"
          ]
        }
      ]
    },
    {
      "cell_type": "markdown",
      "source": [
        "6. Generate a NumPy array of words. Insert a space between each character of every word in the array."
      ],
      "metadata": {
        "id": "6X9POBabnKvU"
      }
    },
    {
      "cell_type": "code",
      "source": [
        "import numpy as np\n",
        "\n",
        "# Create a NumPy array of words\n",
        "array_words = np.array(['numpy', 'pandas', 'python', 'data'])\n",
        "\n",
        "# Insert a space between each character of every word\n",
        "spaced_words = np.char.join(' ', array_words)\n",
        "\n",
        "# Print the original and transformed arrays\n",
        "print(\"Original Array of Words:\\n\", array_words)\n",
        "print(\"\\nArray with Spaces Between Characters:\\n\", spaced_words)\n"
      ],
      "metadata": {
        "colab": {
          "base_uri": "https://localhost:8080/"
        },
        "id": "ZXOQLq07nOKn",
        "outputId": "44946b31-2812-4e79-b3c9-12ecfd38259c"
      },
      "execution_count": 9,
      "outputs": [
        {
          "output_type": "stream",
          "name": "stdout",
          "text": [
            "Original Array of Words:\n",
            " ['numpy' 'pandas' 'python' 'data']\n",
            "\n",
            "Array with Spaces Between Characters:\n",
            " ['n u m p y' 'p a n d a s' 'p y t h o n' 'd a t a']\n"
          ]
        }
      ]
    },
    {
      "cell_type": "markdown",
      "source": [
        "7. Create two 2D NumPy arrays and perform element-wise addition, subtraction, multiplication, and division."
      ],
      "metadata": {
        "id": "h9iCwzDdnS8x"
      }
    },
    {
      "cell_type": "code",
      "source": [
        "import numpy as np\n",
        "\n",
        "# Create two 2D NumPy arrays\n",
        "array1 = np.array([[1, 2, 3],\n",
        "                   [4, 5, 6]])\n",
        "\n",
        "array2 = np.array([[7, 8, 9],\n",
        "                   [10, 11, 12]])\n",
        "\n",
        "# Perform element-wise addition\n",
        "addition = array1 + array2\n",
        "\n",
        "# Perform element-wise subtraction\n",
        "subtraction = array1 - array2\n",
        "\n",
        "# Perform element-wise multiplication\n",
        "multiplication = array1 * array2\n",
        "\n",
        "# Perform element-wise division\n",
        "division = array1 / array2\n",
        "\n",
        "# Print the results\n",
        "print(\"Array 1:\\n\", array1)\n",
        "print(\"\\nArray 2:\\n\", array2)\n",
        "print(\"\\nElement-wise Addition:\\n\", addition)\n",
        "print(\"\\nElement-wise Subtraction:\\n\", subtraction)\n",
        "print(\"\\nElement-wise Multiplication:\\n\", multiplication)\n",
        "print(\"\\nElement-wise Division:\\n\", division)\n"
      ],
      "metadata": {
        "colab": {
          "base_uri": "https://localhost:8080/"
        },
        "id": "GCNmuBdAnWZj",
        "outputId": "d82a2d1f-6f8b-42a2-a50f-a53e28e37483"
      },
      "execution_count": 10,
      "outputs": [
        {
          "output_type": "stream",
          "name": "stdout",
          "text": [
            "Array 1:\n",
            " [[1 2 3]\n",
            " [4 5 6]]\n",
            "\n",
            "Array 2:\n",
            " [[ 7  8  9]\n",
            " [10 11 12]]\n",
            "\n",
            "Element-wise Addition:\n",
            " [[ 8 10 12]\n",
            " [14 16 18]]\n",
            "\n",
            "Element-wise Subtraction:\n",
            " [[-6 -6 -6]\n",
            " [-6 -6 -6]]\n",
            "\n",
            "Element-wise Multiplication:\n",
            " [[ 7 16 27]\n",
            " [40 55 72]]\n",
            "\n",
            "Element-wise Division:\n",
            " [[0.14285714 0.25       0.33333333]\n",
            " [0.4        0.45454545 0.5       ]]\n"
          ]
        }
      ]
    },
    {
      "cell_type": "markdown",
      "source": [
        "8.  Use NumPy to create a 5x5 identity matrix, then extract its diagonal elements."
      ],
      "metadata": {
        "id": "x4e0JcOfneQe"
      }
    },
    {
      "cell_type": "code",
      "source": [
        "import numpy as np\n",
        "\n",
        "# Create a 5x5 identity matrix\n",
        "identity_matrix = np.eye(5)\n",
        "\n",
        "# Print the identity matrix\n",
        "print(\"5x5 Identity Matrix:\\n\", identity_matrix)\n",
        "\n",
        "# Extract the diagonal elements\n",
        "diagonal_elements = np.diag(identity_matrix)\n",
        "\n",
        "# Print the diagonal elements\n",
        "print(\"\\nDiagonal Elements:\\n\", diagonal_elements)\n"
      ],
      "metadata": {
        "colab": {
          "base_uri": "https://localhost:8080/"
        },
        "id": "qEOAReSwnfRB",
        "outputId": "71e4329e-30d7-4270-c057-0f22206c72d2"
      },
      "execution_count": 11,
      "outputs": [
        {
          "output_type": "stream",
          "name": "stdout",
          "text": [
            "5x5 Identity Matrix:\n",
            " [[1. 0. 0. 0. 0.]\n",
            " [0. 1. 0. 0. 0.]\n",
            " [0. 0. 1. 0. 0.]\n",
            " [0. 0. 0. 1. 0.]\n",
            " [0. 0. 0. 0. 1.]]\n",
            "\n",
            "Diagonal Elements:\n",
            " [1. 1. 1. 1. 1.]\n"
          ]
        }
      ]
    },
    {
      "cell_type": "markdown",
      "source": [
        "9. Generate a NumPy array of 100 random integers between 0 and 1000. Find and display all prime numbers in\n",
        "this array."
      ],
      "metadata": {
        "id": "m1xfmzGynkF0"
      }
    },
    {
      "cell_type": "code",
      "source": [
        "import numpy as np\n",
        "\n",
        "# Generate a NumPy array of 100 random integers between 0 and 1000\n",
        "random_integers = np.random.randint(0, 1001, size=100)\n",
        "\n",
        "# Function to check if a number is prime\n",
        "def is_prime(n):\n",
        "    if n <= 1:\n",
        "        return False\n",
        "    for i in range(2, int(n**0.5) + 1):\n",
        "        if n % i == 0:\n",
        "            return False\n",
        "    return True\n",
        "\n",
        "# Find all prime numbers in the array\n",
        "prime_numbers = [num for num in random_integers if is_prime(num)]\n",
        "\n",
        "# Print the original array and the prime numbers found\n",
        "print(\"Array of Random Integers:\\n\", random_integers)\n",
        "print(\"\\nPrime Numbers in the Array:\\n\", prime_numbers)\n"
      ],
      "metadata": {
        "colab": {
          "base_uri": "https://localhost:8080/"
        },
        "id": "E2a7wBhhnnL4",
        "outputId": "a58a8ada-fe3c-480c-971c-1d14265a1d65"
      },
      "execution_count": 12,
      "outputs": [
        {
          "output_type": "stream",
          "name": "stdout",
          "text": [
            "Array of Random Integers:\n",
            " [202 896 884 909 239   8 798 193 909  73 961 195 847 655 551 135 696 782\n",
            " 589 923 601 954 339 167  93  27 945  53 752 443  72 190 632 664 257  61\n",
            " 314 994  25 298 339  34 783 496 485 752  86 480 120 307 162 412 163 400\n",
            " 984 308 365 243 827 773 885 780 510 879 545 793 221 519 163 462 105 687\n",
            "  57 942 467 727 601 493  36 846 377  30 235 577 709 895 234  58 464 411\n",
            " 148 424 566 920 548   4 564 714 293 382]\n",
            "\n",
            "Prime Numbers in the Array:\n",
            " [239, 193, 73, 601, 167, 53, 443, 257, 61, 307, 163, 827, 773, 163, 467, 727, 601, 577, 709, 293]\n"
          ]
        }
      ]
    },
    {
      "cell_type": "markdown",
      "source": [
        "10. Create a NumPy array representing daily temperatures for a month. Calculate and display the weekly\n",
        "averages."
      ],
      "metadata": {
        "id": "WDr2q78nntcX"
      }
    },
    {
      "cell_type": "code",
      "source": [
        "import numpy as np\n",
        "\n",
        "# Define daily temperatures for a month (30 days)\n",
        "daily_temperatures = np.array([\n",
        "    75, 78, 80, 82, 83, 81, 79, 77, 76, 74,\n",
        "    73, 72, 71, 70, 69, 68, 67, 66, 65, 64,\n",
        "    63, 62, 61, 60, 59, 58, 57, 56, 55, 54\n",
        "])\n",
        "\n",
        "# Calculate weekly averages\n",
        "num_weeks = 5  # Adjusted to cover all days properly\n",
        "\n",
        "# Calculate pad width\n",
        "pad_width = max(0, num_weeks * 7 - len(daily_temperatures))\n",
        "\n",
        "# Pad the array with the last value of the array\n",
        "padded_temperatures = np.pad(daily_temperatures, (0, pad_width), 'edge')\n",
        "\n",
        "# Reshape and calculate weekly averages\n",
        "weekly_averages = np.mean(padded_temperatures.reshape(-1, 7), axis=1)\n",
        "\n",
        "# Print the weekly averages\n",
        "print(\"Weekly Averages:\")\n",
        "for week, average in enumerate(weekly_averages):\n",
        "    print(f\"Week {week+1}: {average:.2f}\")\n"
      ],
      "metadata": {
        "colab": {
          "base_uri": "https://localhost:8080/"
        },
        "id": "ScxdwBKkptHX",
        "outputId": "76cc7ef3-db0f-454e-dfab-c9dbe7ece06b"
      },
      "execution_count": 18,
      "outputs": [
        {
          "output_type": "stream",
          "name": "stdout",
          "text": [
            "Weekly Averages:\n",
            "Week 1: 79.71\n",
            "Week 2: 73.29\n",
            "Week 3: 66.00\n",
            "Week 4: 59.00\n",
            "Week 5: 54.14\n"
          ]
        }
      ]
    }
  ]
}